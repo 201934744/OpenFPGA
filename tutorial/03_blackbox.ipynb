{
 "cells": [
  {
   "cell_type": "markdown",
   "metadata": {},
   "source": [
    "# Black boxes\n",
    "The <models> section is how a primitive block can implement a black-box BLIF primitive. Open the file 03_blackbox.xml in a text editor. in the `<models>` section, find the line: `<model name=\"multiply\"> `. It declares a black-box primitive with combinational logic that connects two inputs to one output.\n",
    "    \n",
    "Now in the `<complexblocklist>` section, find the line `<pb_type name=\"mult_16x16_slice\" height=\"4\" width=\"2\">`. This begins the definition of the black box primitive. It is given a name and dimensions in block units. The inputs and outputs are defined as two 16 bit inputs and a 32 bit output.\n",
    "\n",
    "The line:\n",
    " ```\n",
    " <pb_type name=\"mult_16x16\" blif_model=\".subckt multiply\" num_pb=\"1\">\n",
    " ```\n",
    " defines a sub-block that implements the `multiply` logic. This block also has two 16 bit inputs and a 32 bit output. Then the delays between the two inputs to the output are defined.\n",
    " \n",
    " "
   ]
  },
  {
   "cell_type": "code",
   "execution_count": null,
   "metadata": {},
   "outputs": [],
   "source": []
  }
 ],
 "metadata": {
  "kernelspec": {
   "display_name": "Python 3",
   "language": "python",
   "name": "python3"
  },
  "language_info": {
   "codemirror_mode": {
    "name": "ipython",
    "version": 3
   },
   "file_extension": ".py",
   "mimetype": "text/x-python",
   "name": "python",
   "nbconvert_exporter": "python",
   "pygments_lexer": "ipython3",
   "version": "3.6.5"
  }
 },
 "nbformat": 4,
 "nbformat_minor": 2
}
